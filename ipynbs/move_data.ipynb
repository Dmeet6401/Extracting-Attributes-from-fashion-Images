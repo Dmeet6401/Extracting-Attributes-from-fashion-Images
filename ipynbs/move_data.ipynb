{
 "cells": [
  {
   "cell_type": "code",
   "execution_count": 1,
   "metadata": {},
   "outputs": [
    {
     "name": "stdout",
     "output_type": "stream",
     "text": [
      "18391\n"
     ]
    }
   ],
   "source": [
    "import os\n",
    "\n",
    "dir_path = r\"C:\\Users\\Meet Desai\\Desktop\\skylumia\\extracting-attributes-from-fashion-images-2\\train\"\n",
    "\n",
    "\n",
    "file_count = 0\n",
    "for file in os.listdir(dir_path):\n",
    "    if os.path.isfile(os.path.join(dir_path, file)):\n",
    "        file_count += 1\n",
    "\n",
    "print(file_count)"
   ]
  },
  {
   "cell_type": "code",
   "execution_count": 3,
   "metadata": {},
   "outputs": [
    {
     "data": {
      "text/plain": [
       "18391"
      ]
     },
     "execution_count": 3,
     "metadata": {},
     "output_type": "execute_result"
    }
   ],
   "source": [
    "14712+3679 #80,20"
   ]
  },
  {
   "cell_type": "code",
   "execution_count": 4,
   "metadata": {},
   "outputs": [],
   "source": [
    "import os\n",
    "import random\n",
    "import shutil\n"
   ]
  },
  {
   "cell_type": "code",
   "execution_count": 5,
   "metadata": {},
   "outputs": [],
   "source": [
    "source_folder = r\"C:\\Users\\Meet Desai\\Desktop\\skylumia\\extracting-attributes-from-fashion-images-2\\train\"\n",
    "destination_folder = r\"C:\\Users\\Meet Desai\\Desktop\\skylumia\\extracting-attributes-from-fashion-images-2\\val\"\n"
   ]
  },
  {
   "cell_type": "code",
   "execution_count": 6,
   "metadata": {},
   "outputs": [],
   "source": [
    "files = os.listdir(source_folder)\n"
   ]
  },
  {
   "cell_type": "code",
   "execution_count": 7,
   "metadata": {},
   "outputs": [],
   "source": [
    "num_files = 3679\n",
    "selected_files = random.sample(files, num_files)\n"
   ]
  },
  {
   "cell_type": "code",
   "execution_count": 8,
   "metadata": {},
   "outputs": [],
   "source": [
    "for file_name in selected_files:\n",
    "    source_path = os.path.join(source_folder, file_name)\n",
    "    destination_path = os.path.join(destination_folder, file_name)\n",
    "    shutil.move(source_path, destination_path)\n"
   ]
  },
  {
   "cell_type": "code",
   "execution_count": 9,
   "metadata": {},
   "outputs": [],
   "source": [
    "import pandas as pd\n",
    "df = pd.read_csv(\"train.csv\")\n"
   ]
  },
  {
   "cell_type": "code",
   "execution_count": 10,
   "metadata": {},
   "outputs": [],
   "source": [
    "class_0 = []\n",
    "class_1 = []\n",
    "class_2 = []\n",
    "class_3 = []\n",
    "class_4 = []\n",
    "class_5 = []\n",
    "class_6 = []\n",
    "\n",
    "for i,j in df.iterrows():\n",
    "  if j['label'] == 0:\n",
    "    class_0.append(j['file_name'])\n",
    "  if j['label'] == 1:\n",
    "    class_1.append(j['file_name'])\n",
    "  if j['label'] == 2:\n",
    "    class_2.append(j['file_name'])\n",
    "  if j['label'] == 3:\n",
    "    class_3.append(j['file_name'])\n",
    "  if j['label'] == 4:\n",
    "    class_4.append(j['file_name'])\n",
    "  if j['label'] == 5:\n",
    "    class_5.append(j['file_name'])\n",
    "  if j['label'] == 6:\n",
    "    class_6.append(j['file_name'])\n",
    "    "
   ]
  },
  {
   "cell_type": "code",
   "execution_count": 13,
   "metadata": {},
   "outputs": [],
   "source": [
    "def make_folder(name,folder_path ):\n",
    "    folder_name = name\n",
    "\n",
    "    # Specify the path where you want to create the folder\n",
    "    path = folder_path\n",
    "\n",
    "    # Create the full path for the new folder\n",
    "    new_folder_path = os.path.join(path, folder_name)\n",
    "\n",
    "    # Create the new folder\n",
    "    os.makedirs(new_folder_path)"
   ]
  },
  {
   "cell_type": "code",
   "execution_count": 14,
   "metadata": {},
   "outputs": [],
   "source": [
    "def movefiles(source_folder,destination_folder,list):\n",
    "\n",
    "  # List of file names\n",
    "  file_names = list\n",
    "  # Move each file from the source folder to the destination folder\n",
    "  for file_name in file_names:\n",
    "      source_path = os.path.join(source_folder, file_name)\n",
    "      destination_path = os.path.join(destination_folder, file_name)\n",
    "      shutil.move(source_path, destination_path)\n",
    "      # print(f\"Moved {file_name} to {destination_folder}.\")/\n"
   ]
  },
  {
   "cell_type": "code",
   "execution_count": 15,
   "metadata": {},
   "outputs": [],
   "source": [
    "make_folder(\"0\",\"train\")\n",
    "make_folder(\"1\",\"train\")\n",
    "make_folder(\"2\",\"train\")\n",
    "make_folder(\"3\",\"train\")\n",
    "make_folder(\"4\",\"train\")\n",
    "make_folder(\"5\",\"train\")\n",
    "make_folder(\"6\",\"train\")"
   ]
  },
  {
   "cell_type": "code",
   "execution_count": 16,
   "metadata": {},
   "outputs": [],
   "source": [
    "make_folder(\"0\",\"val\")\n",
    "make_folder(\"1\",\"val\")\n",
    "make_folder(\"2\",\"val\")\n",
    "make_folder(\"3\",\"val\")\n",
    "make_folder(\"4\",\"val\")\n",
    "make_folder(\"5\",\"val\")\n",
    "make_folder(\"6\",\"val\")"
   ]
  },
  {
   "cell_type": "code",
   "execution_count": 20,
   "metadata": {},
   "outputs": [],
   "source": [
    "def move_files(file_names, source_folder, target_folder):\n",
    "    for file_name in file_names:\n",
    "        source_path = os.path.join(source_folder, file_name)\n",
    "        target_path = os.path.join(target_folder, file_name)\n",
    "        \n",
    "        if os.path.isfile(source_path):\n",
    "            shutil.move(source_path, target_path)\n",
    "            # print(\"File moved:\", file_name)\n",
    "        else:\n",
    "            # print(\"File not found:\", file_name)\n",
    "            continue"
   ]
  },
  {
   "cell_type": "code",
   "execution_count": 22,
   "metadata": {},
   "outputs": [],
   "source": [
    "move_files(class_0 , 'train', 'train\\\\0' )\n",
    "move_files(class_1 , 'train', 'train\\\\1' )\n",
    "move_files(class_2 , 'train', 'train\\\\2' )\n",
    "move_files(class_3 , 'train', 'train\\\\3' )\n",
    "move_files(class_4 , 'train', 'train\\\\4' )\n",
    "move_files(class_5 , 'train', 'train\\\\5' )\n",
    "move_files(class_6 , 'train', 'train\\\\6' )\n"
   ]
  },
  {
   "cell_type": "code",
   "execution_count": 23,
   "metadata": {},
   "outputs": [],
   "source": [
    "move_files(class_0 , 'val', 'val\\\\0' )\n",
    "move_files(class_1 , 'val', 'val\\\\1' )\n",
    "move_files(class_2 , 'val', 'val\\\\2' )\n",
    "move_files(class_3 , 'val', 'val\\\\3' )\n",
    "move_files(class_4 , 'val', 'val\\\\4' )\n",
    "move_files(class_5 , 'val', 'val\\\\5' )\n",
    "move_files(class_6 , 'val', 'val\\\\6' )\n"
   ]
  },
  {
   "cell_type": "code",
   "execution_count": null,
   "metadata": {},
   "outputs": [],
   "source": [
    "import os\n",
    "\n",
    "def count_files(folder_path):\n",
    "    total_files = 0\n",
    "    \n",
    "    for root, dirs, files in os.walk(folder_path):\n",
    "        total_files += len(files)\n",
    "    \n",
    "    return total_files\n",
    "\n",
    "folder_path = '/content/drive/MyDrive/stylumia/train'  # Replace with the actual path to your folder\n",
    "total_files = count_files(folder_path)\n",
    "print(f\"Total number of files: {total_files}\")\n"
   ]
  },
  {
   "cell_type": "code",
   "execution_count": 4,
   "metadata": {},
   "outputs": [
    {
     "name": "stdout",
     "output_type": "stream",
     "text": [
      "Total number of files: 1128\n",
      "Total number of files: 4287\n",
      "Total number of files: 3284\n",
      "Total number of files: 1627\n",
      "Total number of files: 1569\n",
      "Total number of files: 1288\n",
      "Total number of files: 1529\n"
     ]
    }
   ],
   "source": [
    "import os\n",
    "\n",
    "def count_files(folder_path):\n",
    "    total_files = 0\n",
    "    \n",
    "    for root, dirs, files in os.walk(folder_path):\n",
    "        total_files += len(files)\n",
    "    \n",
    "    return total_files\n",
    "\n",
    "folder_path = r'C:\\Users\\Meet Desai\\Desktop\\skylumia\\extracting-attributes-from-fashion-images-2\\train\\0'  # Replace with the actual path to your folder\n",
    "total_files = count_files(folder_path)\n",
    "print(f\"Total number of files: {total_files}\")\n",
    "folder_path = r'C:\\Users\\Meet Desai\\Desktop\\skylumia\\extracting-attributes-from-fashion-images-2\\train\\1'  # Replace with the actual path to your folder\n",
    "total_files = count_files(folder_path)\n",
    "print(f\"Total number of files: {total_files}\")\n",
    "folder_path = r'C:\\Users\\Meet Desai\\Desktop\\skylumia\\extracting-attributes-from-fashion-images-2\\train\\2'  # Replace with the actual path to your folder\n",
    "total_files = count_files(folder_path)\n",
    "print(f\"Total number of files: {total_files}\")\n",
    "folder_path = r'C:\\Users\\Meet Desai\\Desktop\\skylumia\\extracting-attributes-from-fashion-images-2\\train\\3'  # Replace with the actual path to your folder\n",
    "total_files = count_files(folder_path)\n",
    "print(f\"Total number of files: {total_files}\")\n",
    "folder_path = r'C:\\Users\\Meet Desai\\Desktop\\skylumia\\extracting-attributes-from-fashion-images-2\\train\\4'  # Replace with the actual path to your folder\n",
    "total_files = count_files(folder_path)\n",
    "print(f\"Total number of files: {total_files}\")\n",
    "folder_path = r'C:\\Users\\Meet Desai\\Desktop\\skylumia\\extracting-attributes-from-fashion-images-2\\train\\5'  # Replace with the actual path to your folder\n",
    "total_files = count_files(folder_path)\n",
    "print(f\"Total number of files: {total_files}\")\n",
    "folder_path = r'C:\\Users\\Meet Desai\\Desktop\\skylumia\\extracting-attributes-from-fashion-images-2\\train\\6'  # Replace with the actual path to your folder\n",
    "total_files = count_files(folder_path)\n",
    "print(f\"Total number of files: {total_files}\")\n"
   ]
  },
  {
   "cell_type": "code",
   "execution_count": 2,
   "metadata": {},
   "outputs": [],
   "source": [
    "import pandas as pd\n",
    "df2 = pd.read_csv(\"sample_submission.csv\")"
   ]
  },
  {
   "cell_type": "code",
   "execution_count": 3,
   "metadata": {},
   "outputs": [
    {
     "name": "stdout",
     "output_type": "stream",
     "text": [
      "[0]\n"
     ]
    }
   ],
   "source": [
    "unique_values = df2['label'].unique()\n",
    "print(unique_values)\n"
   ]
  },
  {
   "cell_type": "code",
   "execution_count": null,
   "metadata": {},
   "outputs": [],
   "source": [
    "model=tf.keras.models.load_model('VGG16_150-13-0.65.hdf5')"
   ]
  }
 ],
 "metadata": {
  "kernelspec": {
   "display_name": "Python 3",
   "language": "python",
   "name": "python3"
  },
  "language_info": {
   "codemirror_mode": {
    "name": "ipython",
    "version": 3
   },
   "file_extension": ".py",
   "mimetype": "text/x-python",
   "name": "python",
   "nbconvert_exporter": "python",
   "pygments_lexer": "ipython3",
   "version": "3.9.0"
  },
  "orig_nbformat": 4
 },
 "nbformat": 4,
 "nbformat_minor": 2
}
