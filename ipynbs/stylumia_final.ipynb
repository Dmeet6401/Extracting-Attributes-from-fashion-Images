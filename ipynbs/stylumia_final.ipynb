{
  "cells": [
    {
      "cell_type": "code",
      "execution_count": null,
      "metadata": {
        "id": "kLsmFISjNHsE"
      },
      "outputs": [],
      "source": [
        "import glob\n",
        "import os\n",
        "import shutil\n",
        "import tensorflow as tf\n",
        "from keras import Sequential,models\n",
        "from keras.layers import Dense,Flatten,BatchNormalization,Conv2D,MaxPooling2D,MaxPool2D, Dropout, GlobalAveragePooling2D,Activation\n",
        "from keras.applications.vgg16 import VGG16\n",
        "# from keras.optimizers import Adam\n",
        "from keras.layers import Conv2D, MaxPooling2D, Flatten, Dense, Dropout\n",
        "from keras.models import Model\n",
        "from keras.callbacks import EarlyStopping, ModelCheckpoint\n",
        "\n",
        "import numpy as np\n",
        "from tensorflow import keras\n",
        "from keras.metrics import categorical_crossentropy\n",
        "from keras.preprocessing.image import ImageDataGenerator\n",
        "import itertools\n",
        "import random\n",
        "import matplotlib.pyplot as plt\n",
        "import warnings\n",
        "warnings.simplefilter(action='ignore', category=FutureWarning)\n",
        "from matplotlib.image import imread\n",
        "import pathlib\n",
        "from sklearn.metrics import classification_report, confusion_matrix\n",
        "\n",
        "# %matplotlib inline"
      ]
    },
    {
      "cell_type": "code",
      "execution_count": null,
      "metadata": {
        "id": "XtghxdX3OOsX"
      },
      "outputs": [],
      "source": [
        "train_dir ='/content/drive/MyDrive/tasks/stylumia/train'\n",
        "val_dir = '/content/drive/MyDrive/tasks/stylumia/val'"
      ]
    },
    {
      "cell_type": "code",
      "execution_count": null,
      "metadata": {
        "id": "yhqrUo4tOW9Y"
      },
      "outputs": [],
      "source": [
        "img_width=150\n",
        "img_height=150\n",
        "batch_size=128"
      ]
    },
    {
      "cell_type": "code",
      "execution_count": null,
      "metadata": {
        "colab": {
          "base_uri": "https://localhost:8080/"
        },
        "id": "imuGR8r0OeFH",
        "outputId": "c29054dc-8a49-4fc4-c490-4ad3c4a1c17b"
      },
      "outputs": [
        {
          "name": "stdout",
          "output_type": "stream",
          "text": [
            "Found 14505 images belonging to 7 classes.\n"
          ]
        }
      ],
      "source": [
        "\n",
        "train_datagen = ImageDataGenerator(rescale = 1./255,\n",
        "                                   rotation_range=30,\n",
        "                                   zoom_range=0.4,\n",
        "                                   horizontal_flip=True)\n",
        "\n",
        "train_generator = train_datagen.flow_from_directory(train_dir,\n",
        "                                                    batch_size=batch_size,\n",
        "                                                    # subset=\"training\",\n",
        "                                                    class_mode='sparse',\n",
        "                                                    target_size=(img_height, img_width))"
      ]
    },
    {
      "cell_type": "code",
      "execution_count": null,
      "metadata": {
        "colab": {
          "base_uri": "https://localhost:8080/"
        },
        "id": "qgb9ZlKHOskq",
        "outputId": "38c64d21-0f2e-4433-cb72-83f940999153"
      },
      "outputs": [
        {
          "name": "stdout",
          "output_type": "stream",
          "text": [
            "Found 3609 images belonging to 7 classes.\n"
          ]
        }
      ],
      "source": [
        "val_datagen = ImageDataGenerator(rescale = 1./255,\n",
        "                                   rotation_range=30,\n",
        "                                   zoom_range=0.4,\n",
        "                                   horizontal_flip=True)\n",
        "\n",
        "val_generator = train_datagen.flow_from_directory(val_dir,\n",
        "                                                    batch_size=batch_size,\n",
        "                                                    # subset=\"training\",\n",
        "                                                    class_mode='sparse',\n",
        "                                                    target_size=(img_height, img_width))"
      ]
    },
    {
      "cell_type": "code",
      "execution_count": null,
      "metadata": {
        "colab": {
          "base_uri": "https://localhost:8080/"
        },
        "id": "XHYRoL7hOuEC",
        "outputId": "18dde0dd-8b6a-4b5b-d4f2-61cf14f9ce6e"
      },
      "outputs": [
        {
          "name": "stdout",
          "output_type": "stream",
          "text": [
            "Downloading data from https://storage.googleapis.com/tensorflow/keras-applications/vgg16/vgg16_weights_tf_dim_ordering_tf_kernels_notop.h5\n",
            "58889256/58889256 [==============================] - 0s 0us/step\n"
          ]
        }
      ],
      "source": [
        "img_shape = 150\n",
        "conv_base = VGG16(\n",
        "    weights='imagenet',\n",
        "    include_top = False,\n",
        "    input_shape=(img_shape,img_shape,3)\n",
        ")"
      ]
    },
    {
      "cell_type": "code",
      "execution_count": null,
      "metadata": {
        "id": "A-dQpgH5OzpF"
      },
      "outputs": [],
      "source": [
        "\n",
        "model = Sequential()\n",
        "\n",
        "model.add(conv_base)\n",
        "model.add(Flatten())\n",
        "model.add(Dense(256,activation='relu'))\n",
        "model.add(BatchNormalization())\n",
        "model.add(Dropout(0.5))\n",
        "model.add(Dense(128,activation='relu'))\n",
        "model.add(BatchNormalization())\n",
        "model.add(Dropout(0.5))\n",
        "model.add(Dense(7,activation='softmax'))"
      ]
    },
    {
      "cell_type": "code",
      "execution_count": null,
      "metadata": {
        "id": "uAAfjksEO7T-"
      },
      "outputs": [],
      "source": [
        "model.compile(optimizer='adam',loss = \"sparse_categorical_crossentropy\",metrics=['accuracy'])\n"
      ]
    },
    {
      "cell_type": "code",
      "execution_count": null,
      "metadata": {
        "id": "WkQLv6VOO9FY"
      },
      "outputs": [],
      "source": [
        "\n",
        "filepath=\"/content/drive/MyDrive/tasks/stylumia/resnet50/VGG16_150-{epoch:02d}-{val_accuracy:.2f}.hdf5\"\n",
        "checkpoint = ModelCheckpoint(filepath, monitor='val_accuracy', verbose=1, save_best_only=True, mode='max')\n",
        "callbacks_list = [checkpoint]"
      ]
    },
    {
      "cell_type": "code",
      "execution_count": null,
      "metadata": {
        "colab": {
          "base_uri": "https://localhost:8080/"
        },
        "id": "OP1Remx9QMqx",
        "outputId": "4eea78a6-4aa0-4b77-abf4-10ab70506930"
      },
      "outputs": [
        {
          "name": "stdout",
          "output_type": "stream",
          "text": [
            "Epoch 1/40\n",
            "114/114 [==============================] - ETA: 0s - loss: 2.4582 - accuracy: 0.1892 \n",
            "Epoch 1: val_accuracy improved from -inf to 0.11582, saving model to /content/drive/MyDrive/tasks/stylumia/resnet50/VGG16_150-01-0.12.hdf5\n",
            "114/114 [==============================] - 2537s 22s/step - loss: 2.4582 - accuracy: 0.1892 - val_loss: 3.4223 - val_accuracy: 0.1158\n",
            "Epoch 2/40\n",
            "114/114 [==============================] - ETA: 0s - loss: 2.0896 - accuracy: 0.2583\n",
            "Epoch 2: val_accuracy improved from 0.11582 to 0.23192, saving model to /content/drive/MyDrive/tasks/stylumia/resnet50/VGG16_150-02-0.23.hdf5\n",
            "114/114 [==============================] - 231s 2s/step - loss: 2.0896 - accuracy: 0.2583 - val_loss: 103.7298 - val_accuracy: 0.2319\n",
            "Epoch 3/40\n",
            "114/114 [==============================] - ETA: 0s - loss: 1.9424 - accuracy: 0.2826\n",
            "Epoch 3: val_accuracy did not improve from 0.23192\n",
            "114/114 [==============================] - 226s 2s/step - loss: 1.9424 - accuracy: 0.2826 - val_loss: 46.7859 - val_accuracy: 0.1003\n",
            "Epoch 4/40\n",
            "114/114 [==============================] - ETA: 0s - loss: 1.7833 - accuracy: 0.3206\n",
            "Epoch 4: val_accuracy improved from 0.23192 to 0.28263, saving model to /content/drive/MyDrive/tasks/stylumia/resnet50/VGG16_150-04-0.28.hdf5\n",
            "114/114 [==============================] - 228s 2s/step - loss: 1.7833 - accuracy: 0.3206 - val_loss: 2.4434 - val_accuracy: 0.2826\n",
            "Epoch 5/40\n",
            "114/114 [==============================] - ETA: 0s - loss: 1.6726 - accuracy: 0.3539\n",
            "Epoch 5: val_accuracy improved from 0.28263 to 0.28457, saving model to /content/drive/MyDrive/tasks/stylumia/resnet50/VGG16_150-05-0.28.hdf5\n",
            "114/114 [==============================] - 228s 2s/step - loss: 1.6726 - accuracy: 0.3539 - val_loss: 44.4063 - val_accuracy: 0.2846\n",
            "Epoch 6/40\n",
            "114/114 [==============================] - ETA: 0s - loss: 1.6099 - accuracy: 0.3840\n",
            "Epoch 6: val_accuracy improved from 0.28457 to 0.35190, saving model to /content/drive/MyDrive/tasks/stylumia/resnet50/VGG16_150-06-0.35.hdf5\n",
            "114/114 [==============================] - 229s 2s/step - loss: 1.6099 - accuracy: 0.3840 - val_loss: 1.6773 - val_accuracy: 0.3519\n",
            "Epoch 7/40\n",
            "114/114 [==============================] - ETA: 0s - loss: 1.5750 - accuracy: 0.3951\n",
            "Epoch 7: val_accuracy did not improve from 0.35190\n",
            "114/114 [==============================] - 226s 2s/step - loss: 1.5750 - accuracy: 0.3951 - val_loss: 1.7459 - val_accuracy: 0.3328\n",
            "Epoch 8/40\n",
            "114/114 [==============================] - ETA: 0s - loss: 1.5546 - accuracy: 0.3975\n",
            "Epoch 8: val_accuracy improved from 0.35190 to 0.39540, saving model to /content/drive/MyDrive/tasks/stylumia/resnet50/VGG16_150-08-0.40.hdf5\n",
            "114/114 [==============================] - 227s 2s/step - loss: 1.5546 - accuracy: 0.3975 - val_loss: 1.6287 - val_accuracy: 0.3954\n",
            "Epoch 9/40\n",
            "114/114 [==============================] - ETA: 0s - loss: 1.5283 - accuracy: 0.4052\n",
            "Epoch 9: val_accuracy did not improve from 0.39540\n",
            "114/114 [==============================] - 227s 2s/step - loss: 1.5283 - accuracy: 0.4052 - val_loss: 1.6146 - val_accuracy: 0.3433\n",
            "Epoch 10/40\n",
            "114/114 [==============================] - ETA: 0s - loss: 1.4936 - accuracy: 0.4230\n",
            "Epoch 10: val_accuracy did not improve from 0.39540\n",
            "114/114 [==============================] - 227s 2s/step - loss: 1.4936 - accuracy: 0.4230 - val_loss: 1.6691 - val_accuracy: 0.3228\n",
            "Epoch 11/40\n",
            "114/114 [==============================] - ETA: 0s - loss: 1.4786 - accuracy: 0.4251\n",
            "Epoch 11: val_accuracy improved from 0.39540 to 0.43004, saving model to /content/drive/MyDrive/tasks/stylumia/resnet50/VGG16_150-11-0.43.hdf5\n",
            "114/114 [==============================] - 226s 2s/step - loss: 1.4786 - accuracy: 0.4251 - val_loss: 1.4971 - val_accuracy: 0.4300\n",
            "Epoch 12/40\n",
            "114/114 [==============================] - ETA: 0s - loss: 1.4559 - accuracy: 0.4308\n",
            "Epoch 12: val_accuracy improved from 0.43004 to 0.43170, saving model to /content/drive/MyDrive/tasks/stylumia/resnet50/VGG16_150-12-0.43.hdf5\n",
            "114/114 [==============================] - 229s 2s/step - loss: 1.4559 - accuracy: 0.4308 - val_loss: 281.4483 - val_accuracy: 0.4317\n",
            "Epoch 13/40\n",
            "114/114 [==============================] - ETA: 0s - loss: 1.4465 - accuracy: 0.4292\n",
            "Epoch 13: val_accuracy did not improve from 0.43170\n",
            "114/114 [==============================] - 227s 2s/step - loss: 1.4465 - accuracy: 0.4292 - val_loss: 50.8778 - val_accuracy: 0.3602\n",
            "Epoch 14/40\n",
            "114/114 [==============================] - ETA: 0s - loss: 1.4246 - accuracy: 0.4435\n",
            "Epoch 14: val_accuracy did not improve from 0.43170\n",
            "114/114 [==============================] - 226s 2s/step - loss: 1.4246 - accuracy: 0.4435 - val_loss: 1.5420 - val_accuracy: 0.4034\n",
            "Epoch 15/40\n",
            "114/114 [==============================] - ETA: 0s - loss: 1.4000 - accuracy: 0.4534\n",
            "Epoch 15: val_accuracy did not improve from 0.43170\n",
            "114/114 [==============================] - 225s 2s/step - loss: 1.4000 - accuracy: 0.4534 - val_loss: 4.8260 - val_accuracy: 0.3957\n",
            "Epoch 16/40\n",
            "114/114 [==============================] - ETA: 0s - loss: 1.3772 - accuracy: 0.4569\n",
            "Epoch 16: val_accuracy did not improve from 0.43170\n",
            "114/114 [==============================] - 225s 2s/step - loss: 1.3772 - accuracy: 0.4569 - val_loss: 1.5331 - val_accuracy: 0.4173\n",
            "Epoch 17/40\n",
            "114/114 [==============================] - ETA: 0s - loss: 1.3550 - accuracy: 0.4618\n",
            "Epoch 17: val_accuracy improved from 0.43170 to 0.47465, saving model to /content/drive/MyDrive/tasks/stylumia/resnet50/VGG16_150-17-0.47.hdf5\n",
            "114/114 [==============================] - 268s 2s/step - loss: 1.3550 - accuracy: 0.4618 - val_loss: 8.9845 - val_accuracy: 0.4746\n",
            "Epoch 18/40\n",
            "114/114 [==============================] - ETA: 0s - loss: 1.3445 - accuracy: 0.4650\n",
            "Epoch 18: val_accuracy did not improve from 0.47465\n",
            "114/114 [==============================] - 233s 2s/step - loss: 1.3445 - accuracy: 0.4650 - val_loss: 1.8976 - val_accuracy: 0.3522\n",
            "Epoch 19/40\n",
            "114/114 [==============================] - ETA: 0s - loss: 1.3376 - accuracy: 0.4754\n",
            "Epoch 19: val_accuracy improved from 0.47465 to 0.48822, saving model to /content/drive/MyDrive/tasks/stylumia/resnet50/VGG16_150-19-0.49.hdf5\n",
            "114/114 [==============================] - 229s 2s/step - loss: 1.3376 - accuracy: 0.4754 - val_loss: 1.2680 - val_accuracy: 0.4882\n",
            "Epoch 20/40\n",
            "114/114 [==============================] - ETA: 0s - loss: 1.3200 - accuracy: 0.4820\n",
            "Epoch 20: val_accuracy did not improve from 0.48822\n",
            "114/114 [==============================] - 227s 2s/step - loss: 1.3200 - accuracy: 0.4820 - val_loss: 1.3946 - val_accuracy: 0.4849\n",
            "Epoch 21/40\n",
            "114/114 [==============================] - ETA: 0s - loss: 1.2923 - accuracy: 0.4845\n",
            "Epoch 21: val_accuracy did not improve from 0.48822\n",
            "114/114 [==============================] - 230s 2s/step - loss: 1.2923 - accuracy: 0.4845 - val_loss: 1.7704 - val_accuracy: 0.3774\n",
            "Epoch 22/40\n",
            "114/114 [==============================] - ETA: 0s - loss: 1.2914 - accuracy: 0.4818\n",
            "Epoch 22: val_accuracy did not improve from 0.48822\n",
            "114/114 [==============================] - 269s 2s/step - loss: 1.2914 - accuracy: 0.4818 - val_loss: 1.2999 - val_accuracy: 0.4741\n",
            "Epoch 23/40\n",
            "114/114 [==============================] - ETA: 0s - loss: 1.2745 - accuracy: 0.4892\n",
            "Epoch 23: val_accuracy improved from 0.48822 to 0.49792, saving model to /content/drive/MyDrive/tasks/stylumia/resnet50/VGG16_150-23-0.50.hdf5\n",
            "114/114 [==============================] - 269s 2s/step - loss: 1.2745 - accuracy: 0.4892 - val_loss: 1.3195 - val_accuracy: 0.4979\n",
            "Epoch 24/40\n",
            "114/114 [==============================] - ETA: 0s - loss: 1.2549 - accuracy: 0.5024\n",
            "Epoch 24: val_accuracy did not improve from 0.49792\n",
            "114/114 [==============================] - 230s 2s/step - loss: 1.2549 - accuracy: 0.5024 - val_loss: 1.3057 - val_accuracy: 0.4816\n",
            "Epoch 25/40\n",
            "114/114 [==============================] - ETA: 0s - loss: 1.2308 - accuracy: 0.5083\n",
            "Epoch 25: val_accuracy did not improve from 0.49792\n",
            "114/114 [==============================] - 230s 2s/step - loss: 1.2308 - accuracy: 0.5083 - val_loss: 1.3111 - val_accuracy: 0.4888\n",
            "Epoch 26/40\n",
            "114/114 [==============================] - ETA: 0s - loss: 1.2215 - accuracy: 0.5190\n",
            "Epoch 26: val_accuracy did not improve from 0.49792\n",
            "114/114 [==============================] - 229s 2s/step - loss: 1.2215 - accuracy: 0.5190 - val_loss: 1.3291 - val_accuracy: 0.4960\n",
            "Epoch 27/40\n",
            "114/114 [==============================] - ETA: 0s - loss: 1.2148 - accuracy: 0.5144\n",
            "Epoch 27: val_accuracy improved from 0.49792 to 0.51205, saving model to /content/drive/MyDrive/tasks/stylumia/resnet50/VGG16_150-27-0.51.hdf5\n",
            "114/114 [==============================] - 271s 2s/step - loss: 1.2148 - accuracy: 0.5144 - val_loss: 1.2350 - val_accuracy: 0.5121\n",
            "Epoch 28/40\n",
            "114/114 [==============================] - ETA: 0s - loss: 1.1934 - accuracy: 0.5281\n",
            "Epoch 28: val_accuracy did not improve from 0.51205\n",
            "114/114 [==============================] - 269s 2s/step - loss: 1.1934 - accuracy: 0.5281 - val_loss: 1.2719 - val_accuracy: 0.5082\n",
            "Epoch 29/40\n",
            "114/114 [==============================] - ETA: 0s - loss: 1.1844 - accuracy: 0.5209\n",
            "Epoch 29: val_accuracy improved from 0.51205 to 0.51953, saving model to /content/drive/MyDrive/tasks/stylumia/resnet50/VGG16_150-29-0.52.hdf5\n",
            "114/114 [==============================] - 228s 2s/step - loss: 1.1844 - accuracy: 0.5209 - val_loss: 2.0854 - val_accuracy: 0.5195\n",
            "Epoch 30/40\n",
            "114/114 [==============================] - ETA: 0s - loss: 1.1658 - accuracy: 0.5309\n",
            "Epoch 30: val_accuracy improved from 0.51953 to 0.53671, saving model to /content/drive/MyDrive/tasks/stylumia/resnet50/VGG16_150-30-0.54.hdf5\n",
            "114/114 [==============================] - 228s 2s/step - loss: 1.1658 - accuracy: 0.5309 - val_loss: 1.1367 - val_accuracy: 0.5367\n",
            "Epoch 31/40\n",
            "114/114 [==============================] - ETA: 0s - loss: 1.1419 - accuracy: 0.5465\n",
            "Epoch 31: val_accuracy improved from 0.53671 to 0.54198, saving model to /content/drive/MyDrive/tasks/stylumia/resnet50/VGG16_150-31-0.54.hdf5\n",
            "114/114 [==============================] - 226s 2s/step - loss: 1.1419 - accuracy: 0.5465 - val_loss: 1.1471 - val_accuracy: 0.5420\n",
            "Epoch 32/40\n",
            "114/114 [==============================] - ETA: 0s - loss: 1.1444 - accuracy: 0.5416\n",
            "Epoch 32: val_accuracy improved from 0.54198 to 0.54392, saving model to /content/drive/MyDrive/tasks/stylumia/resnet50/VGG16_150-32-0.54.hdf5\n",
            "114/114 [==============================] - 227s 2s/step - loss: 1.1444 - accuracy: 0.5416 - val_loss: 16.8393 - val_accuracy: 0.5439\n",
            "Epoch 33/40\n",
            "114/114 [==============================] - ETA: 0s - loss: 1.1364 - accuracy: 0.5440\n",
            "Epoch 33: val_accuracy did not improve from 0.54392\n",
            "114/114 [==============================] - 224s 2s/step - loss: 1.1364 - accuracy: 0.5440 - val_loss: 1.1720 - val_accuracy: 0.5201\n",
            "Epoch 34/40\n",
            "114/114 [==============================] - ETA: 0s - loss: 1.1217 - accuracy: 0.5524\n",
            "Epoch 34: val_accuracy improved from 0.54392 to 0.56608, saving model to /content/drive/MyDrive/tasks/stylumia/resnet50/VGG16_150-34-0.57.hdf5\n",
            "114/114 [==============================] - 226s 2s/step - loss: 1.1217 - accuracy: 0.5524 - val_loss: 24.4335 - val_accuracy: 0.5661\n",
            "Epoch 35/40\n",
            "114/114 [==============================] - ETA: 0s - loss: 1.1166 - accuracy: 0.5520\n",
            "Epoch 35: val_accuracy did not improve from 0.56608\n",
            "114/114 [==============================] - 226s 2s/step - loss: 1.1166 - accuracy: 0.5520 - val_loss: 17.6571 - val_accuracy: 0.5026\n",
            "Epoch 36/40\n",
            "114/114 [==============================] - ETA: 0s - loss: 1.1040 - accuracy: 0.5579\n",
            "Epoch 36: val_accuracy did not improve from 0.56608\n",
            "114/114 [==============================] - 224s 2s/step - loss: 1.1040 - accuracy: 0.5579 - val_loss: 1.1439 - val_accuracy: 0.5320\n",
            "Epoch 37/40\n",
            "114/114 [==============================] - ETA: 0s - loss: 1.0833 - accuracy: 0.5657\n",
            "Epoch 37: val_accuracy improved from 0.56608 to 0.58188, saving model to /content/drive/MyDrive/tasks/stylumia/resnet50/VGG16_150-37-0.58.hdf5\n",
            "114/114 [==============================] - 224s 2s/step - loss: 1.0833 - accuracy: 0.5657 - val_loss: 1.0313 - val_accuracy: 0.5819\n",
            "Epoch 38/40\n",
            "114/114 [==============================] - ETA: 0s - loss: 1.0847 - accuracy: 0.5623\n",
            "Epoch 38: val_accuracy did not improve from 0.58188\n",
            "114/114 [==============================] - 223s 2s/step - loss: 1.0847 - accuracy: 0.5623 - val_loss: 1.1447 - val_accuracy: 0.5403\n",
            "Epoch 39/40\n",
            "114/114 [==============================] - ETA: 0s - loss: 1.0844 - accuracy: 0.5629\n",
            "Epoch 39: val_accuracy did not improve from 0.58188\n",
            "114/114 [==============================] - 223s 2s/step - loss: 1.0844 - accuracy: 0.5629 - val_loss: 1.1029 - val_accuracy: 0.5470\n",
            "Epoch 40/40\n",
            "114/114 [==============================] - ETA: 0s - loss: 1.0721 - accuracy: 0.5695\n",
            "Epoch 40: val_accuracy did not improve from 0.58188\n",
            "114/114 [==============================] - 225s 2s/step - loss: 1.0721 - accuracy: 0.5695 - val_loss: 1.1134 - val_accuracy: 0.5580\n"
          ]
        }
      ],
      "source": [
        "history = model.fit(train_generator,epochs=40,validation_data=val_generator,callbacks=callbacks_list)\n"
      ]
    },
    {
      "cell_type": "code",
      "execution_count": null,
      "metadata": {
        "colab": {
          "base_uri": "https://localhost:8080/",
          "height": 489
        },
        "id": "vwccFcB1Dcbx",
        "outputId": "0e67423d-4862-4a44-bbe3-fe03126072d0"
      },
      "outputs": [
        {
          "data": {
            "text/plain": [
              "Text(0.5, 0, 'epochs')"
            ]
          },
          "execution_count": 13,
          "metadata": {},
          "output_type": "execute_result"
        },
        {
          "data": {
            "image/png": "[encoded data removed]",
            "text/plain": [
              "<Figure size 640x480 with 1 Axes>"
            ]
          },
          "metadata": {},
          "output_type": "display_data"
        }
      ],
      "source": [
        "plt.plot(history.history['accuracy'],label='acc')\n",
        "plt.plot(history.history['val_accuracy'],label='val_acc')\n",
        "plt.title('accuracy vs val_acc')\n",
        "plt.legend()\n",
        "plt.xlabel('epochs')"
      ]
    },
    {
      "cell_type": "code",
      "execution_count": null,
      "metadata": {
        "id": "UwlyquxuRBni"
      },
      "outputs": [],
      "source": [
        "loaded_model = keras.models.load_model('/content/drive/MyDrive/tasks/stylumia/resnet50/model_2.h5')\n"
      ]
    },
    {
      "cell_type": "code",
      "execution_count": null,
      "metadata": {
        "colab": {
          "background_save": true,
          "base_uri": "https://localhost:8080/"
        },
        "id": "KWvZrUvQDYXE",
        "outputId": "be42f667-d573-4b64-ebca-e900c2b55410"
      },
      "outputs": [
        {
          "name": "stdout",
          "output_type": "stream",
          "text": [
            "Epoch 1/100\n",
            " 53/114 [============>.................] - ETA: 2:14:53 - loss: 0.8537 - accuracy: 0.6534"
          ]
        }
      ],
      "source": [
        "history = loaded_model.fit(train_generator,epochs=100,validation_data=val_generator,callbacks=callbacks_list)"
      ]
    },
    {
      "cell_type": "code",
      "execution_count": null,
      "metadata": {
        "colab": {
          "base_uri": "https://localhost:8080/"
        },
        "id": "4TKSXf8TEWyP",
        "outputId": "531e6993-fad6-42dd-e0b6-bb29396ba09c"
      },
      "outputs": [
        {
          "name": "stdout",
          "output_type": "stream",
          "text": [
            "Total number of files: 14505\n"
          ]
        }
      ],
      "source": [
        "import os\n",
        "\n",
        "def count_files(folder_path):\n",
        "    total_files = 0\n",
        "    \n",
        "    for root, dirs, files in os.walk(folder_path):\n",
        "        total_files += len(files)\n",
        "    \n",
        "    return total_files\n",
        "\n",
        "folder_path = '/content/drive/MyDrive/tasks/stylumia/train'  # Replace with the actual path to your folder\n",
        "total_files = count_files(folder_path)\n",
        "print(f\"Total number of files: {total_files}\")\n"
      ]
    },
    {
      "cell_type": "code",
      "execution_count": null,
      "metadata": {
        "id": "Iswme860fht_"
      },
      "outputs": [],
      "source": []
    }
  ],
  "metadata": {
    "accelerator": "GPU",
    "colab": {
      "provenance": []
    },
    "kernelspec": {
      "display_name": "Python 3",
      "name": "python3"
    },
    "language_info": {
      "name": "python"
    }
  },
  "nbformat": 4,
  "nbformat_minor": 0
}